{
 "cells": [
  {
   "cell_type": "code",
   "execution_count": 2,
   "id": "16d3998b",
   "metadata": {},
   "outputs": [],
   "source": [
    "import os \n",
    "import pygmsh\n",
    "import gmsh\n",
    "import meshio\n",
    "import argparse\n",
    "import numpy as np "
   ]
  },
  {
   "cell_type": "code",
   "execution_count": 7,
   "id": "8f17acc5",
   "metadata": {},
   "outputs": [
    {
     "name": "stdout",
     "output_type": "stream",
     "text": [
      "Info    : Writing 'test_mesh_fractures_bulk_geom.vtk'...                                                                            \n",
      "Info    : Done writing 'test_mesh_fractures_bulk_geom.vtk'\n"
     ]
    },
    {
     "data": {
      "text/plain": [
       "<meshio mesh object>\n",
       "  Number of points: 589\n",
       "  Number of cells:\n",
       "    triangle: 1096"
      ]
     },
     "execution_count": 7,
     "metadata": {},
     "output_type": "execute_result"
    }
   ],
   "source": [
    "points = [\n",
    "    [-1,-1,0],\n",
    "    [-1, 1,0],\n",
    "    [ 1, 1,0],\n",
    "    [ 1,-1,0],\n",
    "]\n",
    "\n",
    "cells = [[0,1,2,3]]\n",
    "\n",
    "inj_point_coor = [0,0,0]\n",
    "\n",
    "res = 0.1\n",
    "\n",
    "fracture_points = [\n",
    "    [-0.5, 0],\n",
    "    [ 0.5, 0],\n",
    "    [-0.5, -0.5],\n",
    "    [0.5,  0.5],\n",
    "]\n",
    "\n",
    "fractures = [\n",
    "    [0,1],\n",
    "    [2,3]\n",
    "]\n",
    "\n",
    "\n",
    "with pygmsh.occ.Geometry() as geom:\n",
    "\n",
    "    # adding points\n",
    "    points = [geom.add_point(point, res) for point in points]\n",
    "\n",
    "    # adding lines\n",
    "    loops = []\n",
    "    # loop over cell type\n",
    "    for cell in cells:\n",
    "        nb_vertices = len(cell)\n",
    "        lines = [geom.add_line(points[cell[i]],points[cell[(i+1)%nb_vertices]]) for i in range(nb_vertices)]\n",
    "        loops.append(geom.add_curve_loop(lines))\n",
    "\n",
    "    # adding surfaces\n",
    "    surfaces = [geom.add_plane_surface(loop) for loop in loops]\n",
    "    \n",
    "    # adding lines = fractures\n",
    "    fracture_points = [geom.add_point(point, res) for point in fracture_points]\n",
    "\n",
    "    lines = []\n",
    "    for fracture in fractures:\n",
    "        lines.append(geom.add_line(fracture_points[fracture[0]],fracture_points[fracture[1]]))\n",
    "        \n",
    "    gmsh.model.mesh.setSize([l.dim_tag for l in lines], res)\n",
    "\n",
    "    # Injection point\n",
    "    # inj_point = geom.add_point(inj_point_coor, res)\n",
    "\n",
    "    geom.synchronize()\n",
    "\n",
    "    # Computing fragments between surfaces and injection point\n",
    "    fragments = geom.boolean_fragments(surfaces, lines)\n",
    "\n",
    "    geom.synchronize()\n",
    "\n",
    "    # Getting the resulting surfaces and imposing mesh resolution at their boundaries\n",
    "    new_surfaces = [elmt for elmt in fragments if elmt.dim_tag[0] == 2]\n",
    "    new_surfaces_dim_tag = [gmsh_obj.dim_tag for gmsh_obj in new_surfaces]\n",
    "    \n",
    "    new_lines = [elmt for elmt in fragments if elmt.dim_tag[0] == 1]\n",
    "    new_lines_dim_tag = [gmsh_obj.dim_tag for gmsh_obj in new_lines]\n",
    "    \n",
    "    gmsh.model.mesh.setSize(gmsh.model.getBoundary(new_surfaces_dim_tag + new_lines_dim_tag, False, False, True),res)\n",
    "    \n",
    "    geom.synchronize()\n",
    "    \n",
    "    geom.save_geometry(\"test_mesh_fractures_bulk_geom.vtk\")\n",
    "\n",
    "    # geom.set_recombined_surfaces(surfaces)\n",
    "    \n",
    "    # gmsh.option.setNumber(\"Mesh.RecombinationAlgorithm\", 0)\n",
    "    \n",
    "    g_mesh = geom.generate_mesh(order=1,algorithm=2)\n",
    "\n",
    "# only keep elements of dim 2\n",
    "g_mesh.cells = [cells for cells in g_mesh.cells if cells.dim == 2 ]\n",
    "\n",
    "g_mesh.write(f\"test_mesh_fractures_bulk.vtk\")\n",
    "g_mesh"
   ]
  },
  {
   "cell_type": "code",
   "execution_count": null,
   "id": "ce894965",
   "metadata": {},
   "outputs": [],
   "source": []
  }
 ],
 "metadata": {
  "kernelspec": {
   "display_name": "pyfracx",
   "language": "python",
   "name": "python3"
  },
  "language_info": {
   "codemirror_mode": {
    "name": "ipython",
    "version": 3
   },
   "file_extension": ".py",
   "mimetype": "text/x-python",
   "name": "python",
   "nbconvert_exporter": "python",
   "pygments_lexer": "ipython3",
   "version": "3.12.2"
  }
 },
 "nbformat": 4,
 "nbformat_minor": 5
}
